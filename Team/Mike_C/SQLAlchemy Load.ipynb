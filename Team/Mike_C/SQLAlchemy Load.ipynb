{
 "cells": [
  {
   "cell_type": "code",
   "execution_count": 25,
   "metadata": {},
   "outputs": [],
   "source": [
    "#Import Dependencies\n",
    "import sqlalchemy\n",
    "from sqlalchemy.ext.automap import _declarative_base\n",
    "from sqlalchemy.orm import Session\n",
    "from sqlalchemy import create_engine\n",
    "import pandas as pd\n",
    "from sqlalchemy import Column, Integer, String, Float"
   ]
  },
  {
   "cell_type": "code",
   "execution_count": 23,
   "metadata": {},
   "outputs": [],
   "source": [
    "Base=_declarative_base()"
   ]
  },
  {
   "cell_type": "code",
   "execution_count": 26,
   "metadata": {},
   "outputs": [],
   "source": [
    "#Prepare Base\n",
    "class API(Base):\n",
    "    __tablename__ = 'api'\n",
    "    city = Column(String(255), primary_key=True)\n",
    "    date = Column(String(255))\n",
    "    high = Column(String)\n",
    "    low = Column(String)\n",
    "    current_temp = Column(String)\n",
    "    feels_like = Column(String)\n",
    "    humidity = Column(String)\n",
    "    pressure = Column(String)"
   ]
  },
  {
   "cell_type": "code",
   "execution_count": 27,
   "metadata": {},
   "outputs": [],
   "source": [
    "#Create engine using your .sqlite file\n",
    "engine = create_engine(\"sqlite:///weatherdb.sqlite\", echo=False)\n",
    "conn = engine.connect()"
   ]
  },
  {
   "cell_type": "code",
   "execution_count": 28,
   "metadata": {},
   "outputs": [],
   "source": [
    "#Create connection & start session\n",
    "Base.metadata.create_all(conn)\n",
    "session = Session(bind=engine)"
   ]
  },
  {
   "cell_type": "code",
   "execution_count": 29,
   "metadata": {},
   "outputs": [],
   "source": [
    "#Load in all data\n",
    "file_name = 'client_db.csv'\n",
    "df = pd.read_csv('../Mike_M/api.csv')\n",
    "df.to_sql(con=engine, index_label='id',name = 'api', if_exists='replace')"
   ]
  },
  {
   "cell_type": "code",
   "execution_count": 39,
   "metadata": {},
   "outputs": [
    {
     "output_type": "execute_result",
     "data": {
      "text/plain": "[(0, 0, 'Chicago', '2020-05-28 19:43:33.349027', 77.0, 68.0, 72.09, 67.26, 64, 1009),\n (1, 1, 'Nashville', '2020-05-28 19:43:33.349027', 75.99, 71.01, 73.47, 75.81, 73, 1013),\n (2, 2, 'Denver', '2020-05-28 19:43:33.349027', 80.01, 75.99, 78.19, 88.07, 100, 1017),\n (3, 3, 'Seattle', '2020-05-28 19:43:33.349027', 80.6, 73.0, 76.6, 69.71, 33, 1014),\n (4, 4, 'Honolulu', '2020-05-28 19:43:33.349027', 87.8, 77.0, 82.45, 76.26, 45, 1020),\n (5, 5, 'Miami', '2020-05-28 19:43:33.349027', 82.99, 82.0, 82.44, 84.9, 78, 1017),\n (6, 6, 'Omaha', '2020-05-28 19:43:33.349027', 80.6, 75.0, 77.65, 64.47, 30, 1016),\n (7, 7, 'Houston', '2020-05-28 19:43:33.349027', 82.99, 82.0, 82.42, 87.76, 61, 1012),\n (8, 8, 'Phoenix', '2020-05-28 19:43:33.349027', 109.99, 106.0, 108.1, 95.41, 6, 1008),\n (9, 9, 'Albuquerque', '2020-05-28 19:43:33.349027', 90.0, 82.99, 87.03, 80.19, 14, 1020)]"
     },
     "metadata": {},
     "execution_count": 39
    }
   ],
   "source": [
    "#Test result\n",
    "engine.execute(\"SELECT * FROM api\").fetchall()"
   ]
  }
 ],
 "metadata": {
  "language_info": {
   "codemirror_mode": {
    "name": "ipython",
    "version": 3
   },
   "file_extension": ".py",
   "mimetype": "text/x-python",
   "name": "python",
   "nbconvert_exporter": "python",
   "pygments_lexer": "ipython3",
   "version": "3.7.4-final"
  },
  "orig_nbformat": 2,
  "kernelspec": {
   "name": "python3",
   "display_name": "Python 3"
  }
 },
 "nbformat": 4,
 "nbformat_minor": 2
}