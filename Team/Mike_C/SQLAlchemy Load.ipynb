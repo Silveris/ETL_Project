{
 "cells": [
  {
   "cell_type": "code",
   "execution_count": 20,
   "metadata": {},
   "outputs": [],
   "source": [
    "#Import Dependencies\n",
    "import sqlalchemy\n",
    "from sqlalchemy.ext.automap import _declarative_base\n",
    "from sqlalchemy.orm import Session\n",
    "from sqlalchemy import create_engine\n",
    "import pandas as pd\n",
    "from sqlalchemy import Column, Integer, String, Float"
   ]
  },
  {
   "cell_type": "code",
   "execution_count": 21,
   "metadata": {},
   "outputs": [],
   "source": [
    "Base=_declarative_base()"
   ]
  },
  {
   "cell_type": "code",
   "execution_count": 22,
   "metadata": {},
   "outputs": [],
   "source": [
    "#Prepare Base\n",
    "class API(Base):\n",
    "    __tablename__ = 'api'\n",
    "    city = Column(String(255), primary_key=True)\n",
    "    date = Column(String(255))\n",
    "    high = Column(String)\n",
    "    low = Column(String)\n",
    "    current_temp = Column(String)\n",
    "    feels_like = Column(String)\n",
    "    humidity = Column(String)\n",
    "    pressure = Column(String)\n",
    "\n",
    "class Scraped(Base):\n",
    "    __tablename__ = 'scraped'\n",
    "    city = Column(String(255), primary_key=True)\n",
    "    temp = Column(String(255))\n",
    "    feel = Column(String)\n",
    "    high = Column(String)\n",
    "    low = Column(String)\n",
    "    humidity = Column(String)\n",
    "    pressure = Column(String)\n",
    "\n",
    "class Weatherbug(Base):\n",
    "    __tablename__ = 'weatherbug'\n",
    "    city = Column(String(255), primary_key=True)\n",
    "    url = Column(String(255))\n",
    "    data = Column(String(255))"
   ]
  },
  {
   "cell_type": "code",
   "execution_count": 23,
   "metadata": {},
   "outputs": [],
   "source": [
    "#Create engine using your .sqlite file\n",
    "engine = create_engine(\"sqlite:///weatherdb.sqlite\", echo=False)\n",
    "conn = engine.connect()"
   ]
  },
  {
   "cell_type": "code",
   "execution_count": 24,
   "metadata": {},
   "outputs": [],
   "source": [
    "#Create connection & start session\n",
    "Base.metadata.create_all(conn)\n",
    "session = Session(bind=engine)"
   ]
  },
  {
   "cell_type": "code",
   "execution_count": 27,
   "metadata": {},
   "outputs": [],
   "source": [
    "#Load in all data\n",
    "df = pd.read_csv('../Mike_M/api.csv')\n",
    "df.to_sql(con=engine, index_label='id',name = 'api', if_exists='replace')\n",
    "\n",
    "df2 = pd.read_csv('../Dave/Code/scraped.csv')\n",
    "df2.to_sql(con=engine, index_label='id',name = 'scraped', if_exists='replace')\n",
    "\n",
    "df2 = pd.read_csv('../Mike_C/Weatherbug.csv')\n",
    "df2.to_sql(con=engine, index_label='id',name = 'scraped', if_exists='replace')"
   ]
  },
  {
   "cell_type": "code",
   "execution_count": 28,
   "metadata": {},
   "outputs": [
    {
     "output_type": "execute_result",
     "data": {
      "text/plain": "(0, 'Chicago', 'https://www.weatherbug.com/weather-forecast/now/chicago-il-60607', \"['Mostly sunny early in the morning then becoming partly cloudy. Highs around 70 inland...But only in the mid 60s near the lake. North winds 10 to 15 mph.', 'Mostly clear. Lows around 50. Northeast winds 10 to 15 mph.']\", 0, 'Chicago', '2020-05-30 09:58:31.721904', 64.99, 63.0, 64.49, 60.76, 55, 1022)"
     },
     "metadata": {},
     "execution_count": 28
    }
   ],
   "source": [
    "#Test result\n",
    "engine.execute(\"SELECT * FROM scraped, api\").first()"
   ]
  },
  {
   "cell_type": "code",
   "execution_count": null,
   "metadata": {},
   "outputs": [],
   "source": []
  }
 ],
 "metadata": {
  "language_info": {
   "codemirror_mode": {
    "name": "ipython",
    "version": 3
   },
   "file_extension": ".py",
   "mimetype": "text/x-python",
   "name": "python",
   "nbconvert_exporter": "python",
   "pygments_lexer": "ipython3",
   "version": "3.7.4-final"
  },
  "orig_nbformat": 2,
  "kernelspec": {
   "name": "python3",
   "display_name": "Python 3"
  }
 },
 "nbformat": 4,
 "nbformat_minor": 2
}