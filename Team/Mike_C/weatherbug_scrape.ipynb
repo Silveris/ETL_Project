{
 "cells": [
  {
   "cell_type": "code",
   "execution_count": 39,
   "metadata": {},
   "outputs": [],
   "source": [
    "from bs4 import BeautifulSoup as bs\n",
    "import requests\n",
    "from selenium import webdriver\n",
    "from splinter import Browser\n",
    "import pandas as pd"
   ]
  },
  {
   "cell_type": "code",
   "execution_count": 24,
   "metadata": {},
   "outputs": [],
   "source": [
    "executable_path = {\"executable_path\": \"C:\\Program Files (x86)\\Google\\Chrome\\Application\\chromedriver.exe\"}\n",
    "browser = Browser(\"chrome\", **executable_path, headless=False)"
   ]
  },
  {
   "cell_type": "code",
   "execution_count": 25,
   "metadata": {},
   "outputs": [],
   "source": [
    "main_url = 'https://www.weatherbug.com/weather-forecast/now'\n",
    "\n",
    "cities = ['Chicago', 'Nashville', 'Denver',\n",
    "          'Seattle', 'Honolulu', 'Miami', 'Omaha',\n",
    "         'Houston', 'Phoenix', 'Albuquerque']\n",
    "\n",
    "\n",
    "nash_url = f'{main_url}/nashville-tn-37203'\n",
    "miami_url = f'{main_url}/miami-fl-33134'\n",
    "chicago_url = f'{main_url}/chicago-il-60607'\n",
    "denver_url = f'{main_url}/denver-co-80203'\n",
    "seattle_url = f'{main_url}/seattle-wa-98104'\n",
    "honolulu_url = f'{main_url}/honolulu-hi-96822'\n",
    "omaha_url = f'{main_url}/omaha-ne-68114'\n",
    "houston_url = f'{main_url}/houston-tx-77007'\n",
    "phoenix_url = f'{main_url}/phoenix-az-85012'\n",
    "albuquerque_url = f'{main_url}/albuquerque-nm-87106'\n"
   ]
  },
  {
   "cell_type": "code",
   "execution_count": 26,
   "metadata": {},
   "outputs": [],
   "source": [
    "cities = [\n",
    "    {\"name\": \"Chicago\", \"url\": f'{main_url}/chicago-il-60607', \"data\":[]},\n",
    "    {\"name\": \"Nashville\", \"url\": f'{main_url}/nashville-tn-37203', \"data\":[]},\n",
    "    {\"name\": \"Denver\", \"url\": f'{main_url}/denver-co-80203', \"data\":[]},\n",
    "    {\"name\": \"Seattle\", \"url\": f'{main_url}/seattle-wa-98104', \"data\":[]},\n",
    "    {\"name\": \"Honolulu\", \"url\": f'{main_url}/honolulu-hi-96822', \"data\":[]},\n",
    "    {\"name\": \"Miami\", \"url\": f'{main_url}/miami-fl-33134', \"data\":[]},\n",
    "    {\"name\": \"Omaha\", \"url\": f'{main_url}/omaha-ne-68114', \"data\":[]},\n",
    "    {\"name\": \"Houston\", \"url\": f'{main_url}/houston-tx-77007', \"data\":[]},\n",
    "    {\"name\": \"Phoenix\", \"url\": f'{main_url}/phoenix-az-85012', \"data\":[]},\n",
    "    {\"name\": \"Albuquerque\", \"url\": f'{main_url}/albuquerque-nm-87106', \"data\":[]},   \n",
    "        ]"
   ]
  },
  {
   "cell_type": "code",
   "execution_count": 29,
   "metadata": {
    "tags": [
     "outputPrepend",
     "outputPrepend"
    ]
   },
   "outputs": [
    {
     "output_type": "stream",
     "name": "stdout",
     "text": "}, {'name': 'Houston', 'url': 'https://www.weatherbug.com/weather-forecast/now/houston-tx-77007', 'data': []}, {'name': 'Phoenix', 'url': 'https://www.weatherbug.com/weather-forecast/now/phoenix-az-85012', 'data': []}, {'name': 'Albuquerque', 'url': 'https://www.weatherbug.com/weather-forecast/now/albuquerque-nm-87106', 'data': []}]\n[{'name': 'Chicago', 'url': 'https://www.weatherbug.com/weather-forecast/now/chicago-il-60607', 'data': ['Showers likely and a chance of thunderstorms in the evening  then showers likely after midnight. Lows in the lower 60s. Northwest winds 5 to 10 mph. Chance of precipitation 70 percent.TomorrowHi 68', 'Mostly sunny in the morning then becoming partly cloudy. Highs in the lower 70s inland...But only in the upper 60s near the lake. Northwest winds 10 to 15 mph.']}, {'name': 'Nashville', 'url': 'https://www.weatherbug.com/weather-forecast/now/nashville-tn-37203', 'data': ['Mostly cloudy with a 50 percent chance of showers and thunderstorms. Lows in the lower 60s. South winds up to 5 mph.TomorrowHi 78', 'Partly sunny. Chance of showers and thunderstorms in the morning  then showers and thunderstorms likely in the afternoon. Highs around 80. West winds up to 10 mph. Chance of precipitation 60 percent.']}, {'name': 'Denver', 'url': 'https://www.weatherbug.com/weather-forecast/now/denver-co-80203', 'data': ['Mostly cloudy with a 20 percent chance of thunderstorms in the evening  then partly cloudy after midnight. Lows in the lower to mid 50s.TomorrowHi 85', 'Partly cloudy. A 30 percent chance of thunderstorms in the afternoon. Highs in the upper 80s.']}, {'name': 'Seattle', 'url': 'https://www.weatherbug.com/weather-forecast/now/seattle-wa-98104', 'data': ['Mostly cloudy in the evening then becoming partly cloudy. Lows in the 50s. North wind 10 to 15 mph becoming northeast after midnight.TomorrowHi 75', 'Sunny. Highs in the 70s to lower 80s. North wind to 10 mph increasing to 10 to 15 mph in the afternoon.']}, {'name': 'Honolulu', 'url': 'https://www.weatherbug.com/weather-forecast/now/honolulu-hi-96822', 'data': ['Partly sunny with scattered showers. Highs 73 to 85. East winds 10 to 15 mph. Chance of rain 50 percent.', 'Mostly cloudy. Breezy. Scattered showers in the evening  then numerous showers after midnight. Lows 60 to 72. East winds 10 to 20 mph. Chance of rain 70 percent.']}, {'name': 'Miami', 'url': 'https://www.weatherbug.com/weather-forecast/now/miami-fl-33134', 'data': []}, {'name': 'Omaha', 'url': 'https://www.weatherbug.com/weather-forecast/now/omaha-ne-68114', 'data': []}, {'name': 'Houston', 'url': 'https://www.weatherbug.com/weather-forecast/now/houston-tx-77007', 'data': []}, {'name': 'Phoenix', 'url': 'https://www.weatherbug.com/weather-forecast/now/phoenix-az-85012', 'data': []}, {'name': 'Albuquerque', 'url': 'https://www.weatherbug.com/weather-forecast/now/albuquerque-nm-87106', 'data': []}]\n[{'name': 'Chicago', 'url': 'https://www.weatherbug.com/weather-forecast/now/chicago-il-60607', 'data': ['Showers likely and a chance of thunderstorms in the evening  then showers likely after midnight. Lows in the lower 60s. Northwest winds 5 to 10 mph. Chance of precipitation 70 percent.TomorrowHi 68', 'Mostly sunny in the morning then becoming partly cloudy. Highs in the lower 70s inland...But only in the upper 60s near the lake. Northwest winds 10 to 15 mph.']}, {'name': 'Nashville', 'url': 'https://www.weatherbug.com/weather-forecast/now/nashville-tn-37203', 'data': ['Mostly cloudy with a 50 percent chance of showers and thunderstorms. Lows in the lower 60s. South winds up to 5 mph.TomorrowHi 78', 'Partly sunny. Chance of showers and thunderstorms in the morning  then showers and thunderstorms likely in the afternoon. Highs around 80. West winds up to 10 mph. Chance of precipitation 60 percent.']}, {'name': 'Denver', 'url': 'https://www.weatherbug.com/weather-forecast/now/denver-co-80203', 'data': ['Mostly cloudy with a 20 percent chance of thunderstorms in the evening  then partly cloudy after midnight. Lows in the lower to mid 50s.TomorrowHi 85', 'Partly cloudy. A 30 percent chance of thunderstorms in the afternoon. Highs in the upper 80s.']}, {'name': 'Seattle', 'url': 'https://www.weatherbug.com/weather-forecast/now/seattle-wa-98104', 'data': ['Mostly cloudy in the evening then becoming partly cloudy. Lows in the 50s. North wind 10 to 15 mph becoming northeast after midnight.TomorrowHi 75', 'Sunny. Highs in the 70s to lower 80s. North wind to 10 mph increasing to 10 to 15 mph in the afternoon.']}, {'name': 'Honolulu', 'url': 'https://www.weatherbug.com/weather-forecast/now/honolulu-hi-96822', 'data': ['Partly sunny with scattered showers. Highs 73 to 85. East winds 10 to 15 mph. Chance of rain 50 percent.', 'Mostly cloudy. Breezy. Scattered showers in the evening  then numerous showers after midnight. Lows 60 to 72. East winds 10 to 20 mph. Chance of rain 70 percent.']}, {'name': 'Miami', 'url': 'https://www.weatherbug.com/weather-forecast/now/miami-fl-33134', 'data': ['Partly cloudy. Lows in the mid 70s. East winds around 5 mph.TomorrowHi 85', 'Mostly sunny. Chance of thunderstorms in the afternoon. Highs in the upper 80s. East winds 5 to 10 mph. Chance of precipitation 30 percent.']}, {'name': 'Omaha', 'url': 'https://www.weatherbug.com/weather-forecast/now/omaha-ne-68114', 'data': []}, {'name': 'Houston', 'url': 'https://www.weatherbug.com/weather-forecast/now/houston-tx-77007', 'data': []}, {'name': 'Phoenix', 'url': 'https://www.weatherbug.com/weather-forecast/now/phoenix-az-85012', 'data': []}, {'name': 'Albuquerque', 'url': 'https://www.weatherbug.com/weather-forecast/now/albuquerque-nm-87106', 'data': []}]\n[{'name': 'Chicago', 'url': 'https://www.weatherbug.com/weather-forecast/now/chicago-il-60607', 'data': ['Showers likely and a chance of thunderstorms in the evening  then showers likely after midnight. Lows in the lower 60s. Northwest winds 5 to 10 mph. Chance of precipitation 70 percent.TomorrowHi 68', 'Mostly sunny in the morning then becoming partly cloudy. Highs in the lower 70s inland...But only in the upper 60s near the lake. Northwest winds 10 to 15 mph.']}, {'name': 'Nashville', 'url': 'https://www.weatherbug.com/weather-forecast/now/nashville-tn-37203', 'data': ['Mostly cloudy with a 50 percent chance of showers and thunderstorms. Lows in the lower 60s. South winds up to 5 mph.TomorrowHi 78', 'Partly sunny. Chance of showers and thunderstorms in the morning  then showers and thunderstorms likely in the afternoon. Highs around 80. West winds up to 10 mph. Chance of precipitation 60 percent.']}, {'name': 'Denver', 'url': 'https://www.weatherbug.com/weather-forecast/now/denver-co-80203', 'data': ['Mostly cloudy with a 20 percent chance of thunderstorms in the evening  then partly cloudy after midnight. Lows in the lower to mid 50s.TomorrowHi 85', 'Partly cloudy. A 30 percent chance of thunderstorms in the afternoon. Highs in the upper 80s.']}, {'name': 'Seattle', 'url': 'https://www.weatherbug.com/weather-forecast/now/seattle-wa-98104', 'data': ['Mostly cloudy in the evening then becoming partly cloudy. Lows in the 50s. North wind 10 to 15 mph becoming northeast after midnight.TomorrowHi 75', 'Sunny. Highs in the 70s to lower 80s. North wind to 10 mph increasing to 10 to 15 mph in the afternoon.']}, {'name': 'Honolulu', 'url': 'https://www.weatherbug.com/weather-forecast/now/honolulu-hi-96822', 'data': ['Partly sunny with scattered showers. Highs 73 to 85. East winds 10 to 15 mph. Chance of rain 50 percent.', 'Mostly cloudy. Breezy. Scattered showers in the evening  then numerous showers after midnight. Lows 60 to 72. East winds 10 to 20 mph. Chance of rain 70 percent.']}, {'name': 'Miami', 'url': 'https://www.weatherbug.com/weather-forecast/now/miami-fl-33134', 'data': ['Partly cloudy. Lows in the mid 70s. East winds around 5 mph.TomorrowHi 85', 'Mostly sunny. Chance of thunderstorms in the afternoon. Highs in the upper 80s. East winds 5 to 10 mph. Chance of precipitation 30 percent.']}, {'name': 'Omaha', 'url': 'https://www.weatherbug.com/weather-forecast/now/omaha-ne-68114', 'data': ['Cooler  clear. Lows in the lower 50s. Northwest winds 5 to 10 mph. Gusts up to 30 mph through midnight.TomorrowHi 73', 'Sunny. Highs in the mid 70s. North winds 5 to 10 mph.']}, {'name': 'Houston', 'url': 'https://www.weatherbug.com/weather-forecast/now/houston-tx-77007', 'data': []}, {'name': 'Phoenix', 'url': 'https://www.weatherbug.com/weather-forecast/now/phoenix-az-85012', 'data': []}, {'name': 'Albuquerque', 'url': 'https://www.weatherbug.com/weather-forecast/now/albuquerque-nm-87106', 'data': []}]\n[{'name': 'Chicago', 'url': 'https://www.weatherbug.com/weather-forecast/now/chicago-il-60607', 'data': ['Showers likely and a chance of thunderstorms in the evening  then showers likely after midnight. Lows in the lower 60s. Northwest winds 5 to 10 mph. Chance of precipitation 70 percent.TomorrowHi 68', 'Mostly sunny in the morning then becoming partly cloudy. Highs in the lower 70s inland...But only in the upper 60s near the lake. Northwest winds 10 to 15 mph.']}, {'name': 'Nashville', 'url': 'https://www.weatherbug.com/weather-forecast/now/nashville-tn-37203', 'data': ['Mostly cloudy with a 50 percent chance of showers and thunderstorms. Lows in the lower 60s. South winds up to 5 mph.TomorrowHi 78', 'Partly sunny. Chance of showers and thunderstorms in the morning  then showers and thunderstorms likely in the afternoon. Highs around 80. West winds up to 10 mph. Chance of precipitation 60 percent.']}, {'name': 'Denver', 'url': 'https://www.weatherbug.com/weather-forecast/now/denver-co-80203', 'data': ['Mostly cloudy with a 20 percent chance of thunderstorms in the evening  then partly cloudy after midnight. Lows in the lower to mid 50s.TomorrowHi 85', 'Partly cloudy. A 30 percent chance of thunderstorms in the afternoon. Highs in the upper 80s.']}, {'name': 'Seattle', 'url': 'https://www.weatherbug.com/weather-forecast/now/seattle-wa-98104', 'data': ['Mostly cloudy in the evening then becoming partly cloudy. Lows in the 50s. North wind 10 to 15 mph becoming northeast after midnight.TomorrowHi 75', 'Sunny. Highs in the 70s to lower 80s. North wind to 10 mph increasing to 10 to 15 mph in the afternoon.']}, {'name': 'Honolulu', 'url': 'https://www.weatherbug.com/weather-forecast/now/honolulu-hi-96822', 'data': ['Partly sunny with scattered showers. Highs 73 to 85. East winds 10 to 15 mph. Chance of rain 50 percent.', 'Mostly cloudy. Breezy. Scattered showers in the evening  then numerous showers after midnight. Lows 60 to 72. East winds 10 to 20 mph. Chance of rain 70 percent.']}, {'name': 'Miami', 'url': 'https://www.weatherbug.com/weather-forecast/now/miami-fl-33134', 'data': ['Partly cloudy. Lows in the mid 70s. East winds around 5 mph.TomorrowHi 85', 'Mostly sunny. Chance of thunderstorms in the afternoon. Highs in the upper 80s. East winds 5 to 10 mph. Chance of precipitation 30 percent.']}, {'name': 'Omaha', 'url': 'https://www.weatherbug.com/weather-forecast/now/omaha-ne-68114', 'data': ['Cooler  clear. Lows in the lower 50s. Northwest winds 5 to 10 mph. Gusts up to 30 mph through midnight.TomorrowHi 73', 'Sunny. Highs in the mid 70s. North winds 5 to 10 mph.']}, {'name': 'Houston', 'url': 'https://www.weatherbug.com/weather-forecast/now/houston-tx-77007', 'data': ['Partly cloudy in the evening then becoming mostly cloudy after midnight then becoming partly cloudy late. A slight chance of showers and thunderstorms early in the evening  then a chance of showers and thunderstorms in the evening. A slight chance of showers and thunderstorms after midnight. Lows in the lower 70s. East winds around 5 mph in the evening shifting to the north after midnight. Chance of rain 30 percent in the evening decreasing to 20 percent after midnight.TomorrowHi 87', 'Partly cloudy. A 20 percent chance of showers and thunderstorms in the afternoon. Highs in the upper 80s. North winds 5 to 10 mph.']}, {'name': 'Phoenix', 'url': 'https://www.weatherbug.com/weather-forecast/now/phoenix-az-85012', 'data': []}, {'name': 'Albuquerque', 'url': 'https://www.weatherbug.com/weather-forecast/now/albuquerque-nm-87106', 'data': []}]\n[{'name': 'Chicago', 'url': 'https://www.weatherbug.com/weather-forecast/now/chicago-il-60607', 'data': ['Showers likely and a chance of thunderstorms in the evening  then showers likely after midnight. Lows in the lower 60s. Northwest winds 5 to 10 mph. Chance of precipitation 70 percent.TomorrowHi 68', 'Mostly sunny in the morning then becoming partly cloudy. Highs in the lower 70s inland...But only in the upper 60s near the lake. Northwest winds 10 to 15 mph.']}, {'name': 'Nashville', 'url': 'https://www.weatherbug.com/weather-forecast/now/nashville-tn-37203', 'data': ['Mostly cloudy with a 50 percent chance of showers and thunderstorms. Lows in the lower 60s. South winds up to 5 mph.TomorrowHi 78', 'Partly sunny. Chance of showers and thunderstorms in the morning  then showers and thunderstorms likely in the afternoon. Highs around 80. West winds up to 10 mph. Chance of precipitation 60 percent.']}, {'name': 'Denver', 'url': 'https://www.weatherbug.com/weather-forecast/now/denver-co-80203', 'data': ['Mostly cloudy with a 20 percent chance of thunderstorms in the evening  then partly cloudy after midnight. Lows in the lower to mid 50s.TomorrowHi 85', 'Partly cloudy. A 30 percent chance of thunderstorms in the afternoon. Highs in the upper 80s.']}, {'name': 'Seattle', 'url': 'https://www.weatherbug.com/weather-forecast/now/seattle-wa-98104', 'data': ['Mostly cloudy in the evening then becoming partly cloudy. Lows in the 50s. North wind 10 to 15 mph becoming northeast after midnight.TomorrowHi 75', 'Sunny. Highs in the 70s to lower 80s. North wind to 10 mph increasing to 10 to 15 mph in the afternoon.']}, {'name': 'Honolulu', 'url': 'https://www.weatherbug.com/weather-forecast/now/honolulu-hi-96822', 'data': ['Partly sunny with scattered showers. Highs 73 to 85. East winds 10 to 15 mph. Chance of rain 50 percent.', 'Mostly cloudy. Breezy. Scattered showers in the evening  then numerous showers after midnight. Lows 60 to 72. East winds 10 to 20 mph. Chance of rain 70 percent.']}, {'name': 'Miami', 'url': 'https://www.weatherbug.com/weather-forecast/now/miami-fl-33134', 'data': ['Partly cloudy. Lows in the mid 70s. East winds around 5 mph.TomorrowHi 85', 'Mostly sunny. Chance of thunderstorms in the afternoon. Highs in the upper 80s. East winds 5 to 10 mph. Chance of precipitation 30 percent.']}, {'name': 'Omaha', 'url': 'https://www.weatherbug.com/weather-forecast/now/omaha-ne-68114', 'data': ['Cooler  clear. Lows in the lower 50s. Northwest winds 5 to 10 mph. Gusts up to 30 mph through midnight.TomorrowHi 73', 'Sunny. Highs in the mid 70s. North winds 5 to 10 mph.']}, {'name': 'Houston', 'url': 'https://www.weatherbug.com/weather-forecast/now/houston-tx-77007', 'data': ['Partly cloudy in the evening then becoming mostly cloudy after midnight then becoming partly cloudy late. A slight chance of showers and thunderstorms early in the evening  then a chance of showers and thunderstorms in the evening. A slight chance of showers and thunderstorms after midnight. Lows in the lower 70s. East winds around 5 mph in the evening shifting to the north after midnight. Chance of rain 30 percent in the evening decreasing to 20 percent after midnight.TomorrowHi 87', 'Partly cloudy. A 20 percent chance of showers and thunderstorms in the afternoon. Highs in the upper 80s. North winds 5 to 10 mph.']}, {'name': 'Phoenix', 'url': 'https://www.weatherbug.com/weather-forecast/now/phoenix-az-85012', 'data': ['Clear. Lows 73 to 79. Southwest wind 5 to 15 mph.TomorrowHi 109', 'Sunny and very hot. Highs 107 to 111. East wind 5 to 10 mph in the morning becoming south in the afternoon.']}, {'name': 'Albuquerque', 'url': 'https://www.weatherbug.com/weather-forecast/now/albuquerque-nm-87106', 'data': []}]\n[{'name': 'Chicago', 'url': 'https://www.weatherbug.com/weather-forecast/now/chicago-il-60607', 'data': ['Showers likely and a chance of thunderstorms in the evening  then showers likely after midnight. Lows in the lower 60s. Northwest winds 5 to 10 mph. Chance of precipitation 70 percent.TomorrowHi 68', 'Mostly sunny in the morning then becoming partly cloudy. Highs in the lower 70s inland...But only in the upper 60s near the lake. Northwest winds 10 to 15 mph.']}, {'name': 'Nashville', 'url': 'https://www.weatherbug.com/weather-forecast/now/nashville-tn-37203', 'data': ['Mostly cloudy with a 50 percent chance of showers and thunderstorms. Lows in the lower 60s. South winds up to 5 mph.TomorrowHi 78', 'Partly sunny. Chance of showers and thunderstorms in the morning  then showers and thunderstorms likely in the afternoon. Highs around 80. West winds up to 10 mph. Chance of precipitation 60 percent.']}, {'name': 'Denver', 'url': 'https://www.weatherbug.com/weather-forecast/now/denver-co-80203', 'data': ['Mostly cloudy with a 20 percent chance of thunderstorms in the evening  then partly cloudy after midnight. Lows in the lower to mid 50s.TomorrowHi 85', 'Partly cloudy. A 30 percent chance of thunderstorms in the afternoon. Highs in the upper 80s.']}, {'name': 'Seattle', 'url': 'https://www.weatherbug.com/weather-forecast/now/seattle-wa-98104', 'data': ['Mostly cloudy in the evening then becoming partly cloudy. Lows in the 50s. North wind 10 to 15 mph becoming northeast after midnight.TomorrowHi 75', 'Sunny. Highs in the 70s to lower 80s. North wind to 10 mph increasing to 10 to 15 mph in the afternoon.']}, {'name': 'Honolulu', 'url': 'https://www.weatherbug.com/weather-forecast/now/honolulu-hi-96822', 'data': ['Partly sunny with scattered showers. Highs 73 to 85. East winds 10 to 15 mph. Chance of rain 50 percent.', 'Mostly cloudy. Breezy. Scattered showers in the evening  then numerous showers after midnight. Lows 60 to 72. East winds 10 to 20 mph. Chance of rain 70 percent.']}, {'name': 'Miami', 'url': 'https://www.weatherbug.com/weather-forecast/now/miami-fl-33134', 'data': ['Partly cloudy. Lows in the mid 70s. East winds around 5 mph.TomorrowHi 85', 'Mostly sunny. Chance of thunderstorms in the afternoon. Highs in the upper 80s. East winds 5 to 10 mph. Chance of precipitation 30 percent.']}, {'name': 'Omaha', 'url': 'https://www.weatherbug.com/weather-forecast/now/omaha-ne-68114', 'data': ['Cooler  clear. Lows in the lower 50s. Northwest winds 5 to 10 mph. Gusts up to 30 mph through midnight.TomorrowHi 73', 'Sunny. Highs in the mid 70s. North winds 5 to 10 mph.']}, {'name': 'Houston', 'url': 'https://www.weatherbug.com/weather-forecast/now/houston-tx-77007', 'data': ['Partly cloudy in the evening then becoming mostly cloudy after midnight then becoming partly cloudy late. A slight chance of showers and thunderstorms early in the evening  then a chance of showers and thunderstorms in the evening. A slight chance of showers and thunderstorms after midnight. Lows in the lower 70s. East winds around 5 mph in the evening shifting to the north after midnight. Chance of rain 30 percent in the evening decreasing to 20 percent after midnight.TomorrowHi 87', 'Partly cloudy. A 20 percent chance of showers and thunderstorms in the afternoon. Highs in the upper 80s. North winds 5 to 10 mph.']}, {'name': 'Phoenix', 'url': 'https://www.weatherbug.com/weather-forecast/now/phoenix-az-85012', 'data': ['Clear. Lows 73 to 79. Southwest wind 5 to 15 mph.TomorrowHi 109', 'Sunny and very hot. Highs 107 to 111. East wind 5 to 10 mph in the morning becoming south in the afternoon.']}, {'name': 'Albuquerque', 'url': 'https://www.weatherbug.com/weather-forecast/now/albuquerque-nm-87106', 'data': ['Windy. Mostly clear. Lows in the upper 50s. East winds 20 to 30 mph with gusts to around 40 mph shifting to the southeast 15 to 20 mph after midnight.TomorrowHi 87', 'Mostly sunny in the morning  then partly cloudy with isolated showers and thunderstorms in the afternoon. Highs in the upper 80s. South winds 15 to 20 mph.']}]\n"
    }
   ],
   "source": [
    "for city in cities:\n",
    "    browser.visit(city['url'])\n",
    "    html  =browser.html\n",
    "    soup = bs(html, 'html.parser')\n",
    "    daily_description = soup.find('div', {\"data-widget-type\":\"DailyForecastSummary\"}).text\n",
    "    description = daily_description.replace('\\n','')\n",
    "    High = description.split('°F')[1]\n",
    "    High =High.split('TonightLo')[0]\n",
    "    Low = description.split('°F')[2]\n",
    "    city['data'].append(High)\n",
    "    city['data'].append(Low)\n",
    "\n",
    "    print(cities[0][])"
   ]
  },
  {
   "cell_type": "code",
   "execution_count": 36,
   "metadata": {},
   "outputs": [
    {
     "output_type": "stream",
     "name": "stdout",
     "text": "{'name': 'Chicago', 'url': 'https://www.weatherbug.com/weather-forecast/now/chicago-il-60607', 'data': ['Showers likely and a chance of thunderstorms in the evening  then showers likely after midnight. Lows in the lower 60s. Northwest winds 5 to 10 mph. Chance of precipitation 70 percent.TomorrowHi 68', 'Mostly sunny in the morning then becoming partly cloudy. Highs in the lower 70s inland...But only in the upper 60s near the lake. Northwest winds 10 to 15 mph.']}\n{'name': 'Nashville', 'url': 'https://www.weatherbug.com/weather-forecast/now/nashville-tn-37203', 'data': ['Mostly cloudy with a 50 percent chance of showers and thunderstorms. Lows in the lower 60s. South winds up to 5 mph.TomorrowHi 78', 'Partly sunny. Chance of showers and thunderstorms in the morning  then showers and thunderstorms likely in the afternoon. Highs around 80. West winds up to 10 mph. Chance of precipitation 60 percent.']}\n{'name': 'Denver', 'url': 'https://www.weatherbug.com/weather-forecast/now/denver-co-80203', 'data': ['Mostly cloudy with a 20 percent chance of thunderstorms in the evening  then partly cloudy after midnight. Lows in the lower to mid 50s.TomorrowHi 85', 'Partly cloudy. A 30 percent chance of thunderstorms in the afternoon. Highs in the upper 80s.']}\n{'name': 'Seattle', 'url': 'https://www.weatherbug.com/weather-forecast/now/seattle-wa-98104', 'data': ['Mostly cloudy in the evening then becoming partly cloudy. Lows in the 50s. North wind 10 to 15 mph becoming northeast after midnight.TomorrowHi 75', 'Sunny. Highs in the 70s to lower 80s. North wind to 10 mph increasing to 10 to 15 mph in the afternoon.']}\n{'name': 'Honolulu', 'url': 'https://www.weatherbug.com/weather-forecast/now/honolulu-hi-96822', 'data': ['Partly sunny with scattered showers. Highs 73 to 85. East winds 10 to 15 mph. Chance of rain 50 percent.', 'Mostly cloudy. Breezy. Scattered showers in the evening  then numerous showers after midnight. Lows 60 to 72. East winds 10 to 20 mph. Chance of rain 70 percent.']}\n{'name': 'Miami', 'url': 'https://www.weatherbug.com/weather-forecast/now/miami-fl-33134', 'data': ['Partly cloudy. Lows in the mid 70s. East winds around 5 mph.TomorrowHi 85', 'Mostly sunny. Chance of thunderstorms in the afternoon. Highs in the upper 80s. East winds 5 to 10 mph. Chance of precipitation 30 percent.']}\n{'name': 'Omaha', 'url': 'https://www.weatherbug.com/weather-forecast/now/omaha-ne-68114', 'data': ['Cooler  clear. Lows in the lower 50s. Northwest winds 5 to 10 mph. Gusts up to 30 mph through midnight.TomorrowHi 73', 'Sunny. Highs in the mid 70s. North winds 5 to 10 mph.']}\n{'name': 'Houston', 'url': 'https://www.weatherbug.com/weather-forecast/now/houston-tx-77007', 'data': ['Partly cloudy in the evening then becoming mostly cloudy after midnight then becoming partly cloudy late. A slight chance of showers and thunderstorms early in the evening  then a chance of showers and thunderstorms in the evening. A slight chance of showers and thunderstorms after midnight. Lows in the lower 70s. East winds around 5 mph in the evening shifting to the north after midnight. Chance of rain 30 percent in the evening decreasing to 20 percent after midnight.TomorrowHi 87', 'Partly cloudy. A 20 percent chance of showers and thunderstorms in the afternoon. Highs in the upper 80s. North winds 5 to 10 mph.']}\n{'name': 'Phoenix', 'url': 'https://www.weatherbug.com/weather-forecast/now/phoenix-az-85012', 'data': ['Clear. Lows 73 to 79. Southwest wind 5 to 15 mph.TomorrowHi 109', 'Sunny and very hot. Highs 107 to 111. East wind 5 to 10 mph in the morning becoming south in the afternoon.']}\n{'name': 'Albuquerque', 'url': 'https://www.weatherbug.com/weather-forecast/now/albuquerque-nm-87106', 'data': ['Windy. Mostly clear. Lows in the upper 50s. East winds 20 to 30 mph with gusts to around 40 mph shifting to the southeast 15 to 20 mph after midnight.TomorrowHi 87', 'Mostly sunny in the morning  then partly cloudy with isolated showers and thunderstorms in the afternoon. Highs in the upper 80s. South winds 15 to 20 mph.']}\n"
    }
   ],
   "source": [
    "for city in cities:\n",
    "    print(city)"
   ]
  },
  {
   "cell_type": "code",
   "execution_count": 58,
   "metadata": {},
   "outputs": [],
   "source": [
    "Text_df = pd.DataFrame.from_records(cities)\n",
    "Text_df = Text_df.rename(columns={'name':\"Name\",'url':\"URL\",'data':\"Description\"})"
   ]
  },
  {
   "cell_type": "code",
   "execution_count": 59,
   "metadata": {},
   "outputs": [
    {
     "output_type": "execute_result",
     "data": {
      "text/plain": "          Name                                                URL  \\\n0      Chicago  https://www.weatherbug.com/weather-forecast/no...   \n1    Nashville  https://www.weatherbug.com/weather-forecast/no...   \n2       Denver  https://www.weatherbug.com/weather-forecast/no...   \n3      Seattle  https://www.weatherbug.com/weather-forecast/no...   \n4     Honolulu  https://www.weatherbug.com/weather-forecast/no...   \n5        Miami  https://www.weatherbug.com/weather-forecast/no...   \n6        Omaha  https://www.weatherbug.com/weather-forecast/no...   \n7      Houston  https://www.weatherbug.com/weather-forecast/no...   \n8      Phoenix  https://www.weatherbug.com/weather-forecast/no...   \n9  Albuquerque  https://www.weatherbug.com/weather-forecast/no...   \n\n                                         Description  \n0  [Showers likely and a chance of thunderstorms ...  \n1  [Mostly cloudy with a 50 percent chance of sho...  \n2  [Mostly cloudy with a 20 percent chance of thu...  \n3  [Mostly cloudy in the evening then becoming pa...  \n4  [Partly sunny with scattered showers. Highs 73...  \n5  [Partly cloudy. Lows in the mid 70s. East wind...  \n6  [Cooler  clear. Lows in the lower 50s. Northwe...  \n7  [Partly cloudy in the evening then becoming mo...  \n8  [Clear. Lows 73 to 79. Southwest wind 5 to 15 ...  \n9  [Windy. Mostly clear. Lows in the upper 50s. E...  ",
      "text/html": "<div>\n<style scoped>\n    .dataframe tbody tr th:only-of-type {\n        vertical-align: middle;\n    }\n\n    .dataframe tbody tr th {\n        vertical-align: top;\n    }\n\n    .dataframe thead th {\n        text-align: right;\n    }\n</style>\n<table border=\"1\" class=\"dataframe\">\n  <thead>\n    <tr style=\"text-align: right;\">\n      <th></th>\n      <th>Name</th>\n      <th>URL</th>\n      <th>Description</th>\n    </tr>\n  </thead>\n  <tbody>\n    <tr>\n      <th>0</th>\n      <td>Chicago</td>\n      <td>https://www.weatherbug.com/weather-forecast/no...</td>\n      <td>[Showers likely and a chance of thunderstorms ...</td>\n    </tr>\n    <tr>\n      <th>1</th>\n      <td>Nashville</td>\n      <td>https://www.weatherbug.com/weather-forecast/no...</td>\n      <td>[Mostly cloudy with a 50 percent chance of sho...</td>\n    </tr>\n    <tr>\n      <th>2</th>\n      <td>Denver</td>\n      <td>https://www.weatherbug.com/weather-forecast/no...</td>\n      <td>[Mostly cloudy with a 20 percent chance of thu...</td>\n    </tr>\n    <tr>\n      <th>3</th>\n      <td>Seattle</td>\n      <td>https://www.weatherbug.com/weather-forecast/no...</td>\n      <td>[Mostly cloudy in the evening then becoming pa...</td>\n    </tr>\n    <tr>\n      <th>4</th>\n      <td>Honolulu</td>\n      <td>https://www.weatherbug.com/weather-forecast/no...</td>\n      <td>[Partly sunny with scattered showers. Highs 73...</td>\n    </tr>\n    <tr>\n      <th>5</th>\n      <td>Miami</td>\n      <td>https://www.weatherbug.com/weather-forecast/no...</td>\n      <td>[Partly cloudy. Lows in the mid 70s. East wind...</td>\n    </tr>\n    <tr>\n      <th>6</th>\n      <td>Omaha</td>\n      <td>https://www.weatherbug.com/weather-forecast/no...</td>\n      <td>[Cooler  clear. Lows in the lower 50s. Northwe...</td>\n    </tr>\n    <tr>\n      <th>7</th>\n      <td>Houston</td>\n      <td>https://www.weatherbug.com/weather-forecast/no...</td>\n      <td>[Partly cloudy in the evening then becoming mo...</td>\n    </tr>\n    <tr>\n      <th>8</th>\n      <td>Phoenix</td>\n      <td>https://www.weatherbug.com/weather-forecast/no...</td>\n      <td>[Clear. Lows 73 to 79. Southwest wind 5 to 15 ...</td>\n    </tr>\n    <tr>\n      <th>9</th>\n      <td>Albuquerque</td>\n      <td>https://www.weatherbug.com/weather-forecast/no...</td>\n      <td>[Windy. Mostly clear. Lows in the upper 50s. E...</td>\n    </tr>\n  </tbody>\n</table>\n</div>"
     },
     "metadata": {},
     "execution_count": 59
    }
   ],
   "source": [
    "Text_df"
   ]
  }
 ],
 "metadata": {
  "language_info": {
   "codemirror_mode": {
    "name": "ipython",
    "version": 3
   },
   "file_extension": ".py",
   "mimetype": "text/x-python",
   "name": "python",
   "nbconvert_exporter": "python",
   "pygments_lexer": "ipython3",
   "version": "3.7.4-final"
  },
  "orig_nbformat": 2,
  "kernelspec": {
   "name": "python3",
   "display_name": "Python 3"
  }
 },
 "nbformat": 4,
 "nbformat_minor": 2
}