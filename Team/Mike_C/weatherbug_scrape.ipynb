{
 "cells": [
  {
   "cell_type": "code",
   "execution_count": 1,
   "metadata": {},
   "outputs": [],
   "source": [
    "from bs4 import BeautifulSoup as bs\n",
    "import requests\n",
    "from selenium import webdriver\n",
    "from splinter import Browser\n",
    "import pandas as pd"
   ]
  },
  {
   "cell_type": "code",
   "execution_count": 2,
   "metadata": {},
   "outputs": [],
   "source": [
    "executable_path = {\"executable_path\": \"C:\\Program Files (x86)\\Google\\Chrome\\Application\\chromedriver.exe\"}\n",
    "browser = Browser(\"chrome\", **executable_path, headless=False)"
   ]
  },
  {
   "cell_type": "code",
   "execution_count": 3,
   "metadata": {},
   "outputs": [],
   "source": [
    "main_url = 'https://www.weatherbug.com/weather-forecast/now'\n",
    "\n",
    "cities = ['Chicago', 'Nashville', 'Denver',\n",
    "          'Seattle', 'Honolulu', 'Miami', 'Omaha',\n",
    "         'Houston', 'Phoenix', 'Albuquerque']\n",
    "\n",
    "\n",
    "nash_url = f'{main_url}/nashville-tn-37203'\n",
    "miami_url = f'{main_url}/miami-fl-33134'\n",
    "chicago_url = f'{main_url}/chicago-il-60607'\n",
    "denver_url = f'{main_url}/denver-co-80203'\n",
    "seattle_url = f'{main_url}/seattle-wa-98104'\n",
    "honolulu_url = f'{main_url}/honolulu-hi-96822'\n",
    "omaha_url = f'{main_url}/omaha-ne-68114'\n",
    "houston_url = f'{main_url}/houston-tx-77007'\n",
    "phoenix_url = f'{main_url}/phoenix-az-85012'\n",
    "albuquerque_url = f'{main_url}/albuquerque-nm-87106'\n"
   ]
  },
  {
   "cell_type": "code",
   "execution_count": 4,
   "metadata": {},
   "outputs": [],
   "source": [
    "cities = [\n",
    "    {\"name\": \"Chicago\", \"url\": f'{main_url}/chicago-il-60607', \"data\":[]},\n",
    "    {\"name\": \"Nashville\", \"url\": f'{main_url}/nashville-tn-37203', \"data\":[]},\n",
    "    {\"name\": \"Denver\", \"url\": f'{main_url}/denver-co-80203', \"data\":[]},\n",
    "    {\"name\": \"Seattle\", \"url\": f'{main_url}/seattle-wa-98104', \"data\":[]},\n",
    "    {\"name\": \"Honolulu\", \"url\": f'{main_url}/honolulu-hi-96822', \"data\":[]},\n",
    "    {\"name\": \"Miami\", \"url\": f'{main_url}/miami-fl-33134', \"data\":[]},\n",
    "    {\"name\": \"Omaha\", \"url\": f'{main_url}/omaha-ne-68114', \"data\":[]},\n",
    "    {\"name\": \"Houston\", \"url\": f'{main_url}/houston-tx-77007', \"data\":[]},\n",
    "    {\"name\": \"Phoenix\", \"url\": f'{main_url}/phoenix-az-85012', \"data\":[]},\n",
    "    {\"name\": \"Albuquerque\", \"url\": f'{main_url}/albuquerque-nm-87106', \"data\":[]},   \n",
    "        ]"
   ]
  },
  {
   "cell_type": "code",
   "execution_count": 5,
   "metadata": {
    "tags": [
     "outputPrepend",
     "outputPrepend"
    ]
   },
   "outputs": [],
   "source": [
    "for city in cities:\n",
    "    browser.visit(city['url'])\n",
    "    html  =browser.html\n",
    "    soup = bs(html, 'html.parser')\n",
    "    daily_description = soup.find('div', {\"data-widget-type\":\"DailyForecastSummary\"}).text\n",
    "    description = daily_description.replace('\\n','')\n",
    "    High = description.split('°F')[1]\n",
    "    High =High.split('TonightLo')[0]\n",
    "    Low = description.split('°F')[2]\n",
    "    city['data'].append(High)\n",
    "    city['data'].append(Low)\n"
   ]
  },
  {
   "cell_type": "code",
   "execution_count": 6,
   "metadata": {},
   "outputs": [
    {
     "output_type": "stream",
     "name": "stdout",
     "text": "{'name': 'Chicago', 'url': 'https://www.weatherbug.com/weather-forecast/now/chicago-il-60607', 'data': ['Mostly sunny early in the morning then becoming partly cloudy. Highs around 70 inland...But only in the mid 60s near the lake. North winds 10 to 15 mph.', 'Mostly clear. Lows around 50. Northeast winds 10 to 15 mph.']}\n{'name': 'Nashville', 'url': 'https://www.weatherbug.com/weather-forecast/now/nashville-tn-37203', 'data': ['Mostly sunny. Highs around 80. North winds up to 10 mph.', 'Mostly clear. Lows in the upper 50s. North winds up to 10 mph.']}\n{'name': 'Denver', 'url': 'https://www.weatherbug.com/weather-forecast/now/denver-co-80203', 'data': ['Partly cloudy in the morning  then mostly cloudy with a slight chance of thunderstorms early in the afternoon. Mostly cloudy with a chance of thunderstorms late in the afternoon. Highs in the lower to mid 80s. Northeast winds 10 to 15 mph with gusts to around 25 mph in the afternoon. Chance of thunderstorms 40 percent.', 'Mostly cloudy. A 40 percent chance of thunderstorms in the evening. Lows in the upper 50s.']}\n{'name': 'Seattle', 'url': 'https://www.weatherbug.com/weather-forecast/now/seattle-wa-98104', 'data': ['Mostly cloudy with a chance of showers and a slight chance of thunderstorms in the morning  then showers and a slight chance of thunderstorms in the afternoon. Rainfall amounts a tenth to a quarter of an inch possible, except higher amounts possible in thunderstorms. Highs in the upper 50s to mid 60s. North wind to 10 mph increasing to 10 to 15 mph with gusts to 25 mph in the afternoon.', 'Showers. Locally heavy rainfall possible in the evening. Rainfall amounts a half inch to one inch possible. Lows near 50. North wind 10 to 15 mph becoming southwest 10 to 20 mph after midnight. ,']}\n{'name': 'Honolulu', 'url': 'https://www.weatherbug.com/weather-forecast/now/honolulu-hi-96822', 'data': ['Mostly cloudy. Scattered showers in the evening  then showers likely after midnight. Lows 60 to 72. East winds 10 to 15 mph. Chance of rain 70 percent.TomorrowHi 79', 'Breezy. Partly sunny with scattered showers. Highs 70 to 85. Northeast winds 10 to 20 mph. Chance of rain 50 percent.']}\n{'name': 'Miami', 'url': 'https://www.weatherbug.com/weather-forecast/now/miami-fl-33134', 'data': ['Partly sunny. Highs in the upper 80s. Southeast winds around 10 mph.', 'Mostly cloudy. Lows in the mid 70s. Southeast winds around 5 mph.']}\n{'name': 'Omaha', 'url': 'https://www.weatherbug.com/weather-forecast/now/omaha-ne-68114', 'data': ['Cooler. Rain showers in the late morning and early afternoon  then a chance of rain showers late in the afternoon. Highs in the mid 60s. East winds 5 to 10 mph. Chance of showers 90 percent.', 'Mostly cloudy. A chance of rain showers and a slight chance of thunderstorms after midnight. Lows in the mid 50s. Southeast winds 5 to 10 mph. Chance of precipitation 40 percent.']}\n{'name': 'Houston', 'url': 'https://www.weatherbug.com/weather-forecast/now/houston-tx-77007', 'data': ['Mostly sunny early in the morning then becoming partly cloudy. A 20 percent chance of showers in the afternoon. A 20 percent chance of showers and thunderstorms late in the afternoon. Highs in the upper 80s. Northeast winds 5 to 10 mph.', 'Partly cloudy. A slight chance of showers in the evening. Lows in the lower 70s. East winds around 5 mph.']}\n{'name': 'Phoenix', 'url': 'https://www.weatherbug.com/weather-forecast/now/phoenix-az-85012', 'data': ['Partly sunny in the morning then becoming sunny. Hot. Highs 104 to 108. Southeast wind 5 to 10 mph in the morning becoming southwest 10 to 20 mph in the afternoon.', 'Mostly clear. Lows 72 to 81. Southwest wind 10 to 20 mph in the evening becoming south 5 to 10 mph after midnight.']}\n{'name': 'Albuquerque', 'url': 'https://www.weatherbug.com/weather-forecast/now/albuquerque-nm-87106', 'data': ['Partly cloudy. Isolated showers and thunderstorms late in the afternoon. Highs around 90. South winds 10 to 15 mph in the afternoon.', 'Partly cloudy. Isolated showers and thunderstorms in the evening. Lows in the lower 60s. Southeast winds 15 to 20 mph.']}\n"
    }
   ],
   "source": [
    "for city in cities:\n",
    "    print(city)"
   ]
  },
  {
   "cell_type": "code",
   "execution_count": 7,
   "metadata": {},
   "outputs": [],
   "source": [
    "Text_df = pd.DataFrame.from_records(cities)\n",
    "Text_df = Text_df.rename(columns={'name':\"Name\",'url':\"URL\",'data':\"Description\"})"
   ]
  },
  {
   "cell_type": "code",
   "execution_count": 8,
   "metadata": {},
   "outputs": [],
   "source": [
    "Text_df.to_csv('Weatherbug.csv', index=False)"
   ]
  },
  {
   "cell_type": "code",
   "execution_count": null,
   "metadata": {},
   "outputs": [],
   "source": []
  }
 ],
 "metadata": {
  "language_info": {
   "codemirror_mode": {
    "name": "ipython",
    "version": 3
   },
   "file_extension": ".py",
   "mimetype": "text/x-python",
   "name": "python",
   "nbconvert_exporter": "python",
   "pygments_lexer": "ipython3",
   "version": "3.7.4-final"
  },
  "orig_nbformat": 2,
  "kernelspec": {
   "name": "python3",
   "display_name": "Python 3"
  }
 },
 "nbformat": 4,
 "nbformat_minor": 2
}